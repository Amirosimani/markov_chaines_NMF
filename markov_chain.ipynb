{
 "cells": [
  {
   "cell_type": "code",
   "execution_count": 1,
   "metadata": {
    "collapsed": false
   },
   "outputs": [],
   "source": [
    "import numpy as np\n",
    "from numpy import linalg as LA\n",
    "from scipy.sparse import linalg as SLA\n",
    "import matplotlib\n",
    "import matplotlib.pyplot as plt\n",
    "import pandas as pd\n",
    "\n",
    "%matplotlib inline\n",
    "%load_ext autotime"
   ]
  },
  {
   "cell_type": "markdown",
   "metadata": {},
   "source": [
    "## 1-a"
   ]
  },
  {
   "cell_type": "code",
   "execution_count": null,
   "metadata": {
    "collapsed": false
   },
   "outputs": [],
   "source": [
    "x_2016 = np.genfromtxt('/Users/Amiros/GitHub/Machine Learning for Data Science/hw5_markov_chaines/CFB2016_scores.csv', \n",
    "          delimiter=',')\n",
    "\n",
    "team_names = pd.read_csv('/Users/Amiros/GitHub/Machine Learning for Data Science/hw5_markov_chaines/TeamNames.txt',\n",
    "                        header = None)"
   ]
  },
  {
   "cell_type": "code",
   "execution_count": null,
   "metadata": {
    "collapsed": false
   },
   "outputs": [],
   "source": [
    "a_index = x_2016[:,0] -1\n",
    "b_index = x_2016[:,2] -1\n",
    "\n",
    "a_score = x_2016[:,1]\n",
    "b_score = x_2016[:,3]\n",
    "\n",
    "a_indicator = np.where(a_score>b_score,1,0)\n",
    "b_indicator = np.where(a_score<b_score,1,0)"
   ]
  },
  {
   "cell_type": "code",
   "execution_count": null,
   "metadata": {
    "collapsed": false
   },
   "outputs": [],
   "source": [
    "M = np.zeros((760, 760))\n",
    "\n",
    "M[tuple(a_index), tuple(a_index)] = M[tuple(a_index), tuple(a_index)] + a_indicator + a_score/(a_score+b_score)\n",
    "M[tuple(b_index), tuple(b_index)] = M[tuple(b_index), tuple(b_index)] + b_indicator + b_score/(a_score+b_score)\n",
    "M[tuple(a_index), tuple(b_index)] = M[tuple(a_index), tuple(b_index)] + b_indicator + b_score/(a_score+b_score)\n",
    "M[tuple(b_index), tuple(a_index)] = M[tuple(b_index), tuple(a_index)] + a_indicator + b_score/(a_score+b_score)\n",
    "\n",
    "M_normalize = M/M.sum(axis=1)"
   ]
  },
  {
   "cell_type": "code",
   "execution_count": null,
   "metadata": {
    "collapsed": false
   },
   "outputs": [],
   "source": [
    "# function to calculate state at t\n",
    "def update_w(w_0, t):\n",
    "    w_arr = []\n",
    "    w = w_0\n",
    "    for i in range(t):\n",
    "        w = np.dot(w, M_normalize)\n",
    "    w_arr = pd.DataFrame(w.T, index= None, columns = ['score'])\n",
    "    w_arr['team'] = team_names\n",
    "    return w_arr"
   ]
  },
  {
   "cell_type": "code",
   "execution_count": null,
   "metadata": {
    "collapsed": false
   },
   "outputs": [],
   "source": [
    "np.random.seed(42)\n",
    "w_0 = np.random.uniform(low=0.0, high=1.0, size=(1,760))\n",
    "\n",
    "w_10 = update_w(w_0, 10)\n",
    "w_100 = update_w(w_0, 100)\n",
    "w_1000 = update_w(w_0, 1000)\n",
    "w_10000 = update_w(w_0, 10000)"
   ]
  },
  {
   "cell_type": "code",
   "execution_count": null,
   "metadata": {
    "collapsed": false
   },
   "outputs": [],
   "source": [
    "w_10000.sort('score', ascending=False).head(25)"
   ]
  },
  {
   "cell_type": "markdown",
   "metadata": {},
   "source": [
    "## 1-b"
   ]
  },
  {
   "cell_type": "code",
   "execution_count": null,
   "metadata": {
    "collapsed": false
   },
   "outputs": [],
   "source": [
    "u = SLA.eigs(M,1, sigma=1)[1].T\n",
    "w_stationary = u/np.sum(u)"
   ]
  },
  {
   "cell_type": "code",
   "execution_count": null,
   "metadata": {
    "collapsed": false
   },
   "outputs": [],
   "source": [
    "def print_w(w_0, w_stationary, t=2):\n",
    "    w = w_0\n",
    "    x = []\n",
    "    for i in range(t):\n",
    "        w = np.dot(w, M_normalize)\n",
    "        x.append(LA.norm(w_stationary-w, ord=1))\n",
    "    \n",
    "    plt.figure(num=None, figsize=(10, 10), dpi=80)\n",
    "    plt.plot(x, linewidth=2)\n",
    "\n",
    "print_w(w_0, w_stationary, t=10000)"
   ]
  },
  {
   "cell_type": "markdown",
   "metadata": {},
   "source": [
    "      \n",
    "          \n",
    "          \n",
    "             "
   ]
  },
  {
   "cell_type": "markdown",
   "metadata": {},
   "source": [
    "## 2-a"
   ]
  },
  {
   "cell_type": "code",
   "execution_count": 2,
   "metadata": {
    "collapsed": false
   },
   "outputs": [
    {
     "name": "stdout",
     "output_type": "stream",
     "text": [
      "time: 42.1 ms\n"
     ]
    }
   ],
   "source": [
    "# load the txt file\n",
    "with open('nyt_data.csv') as f:\n",
    "    content = f.readlines()\n",
    "content = [x.strip() for x in content] "
   ]
  },
  {
   "cell_type": "code",
   "execution_count": 3,
   "metadata": {
    "collapsed": false
   },
   "outputs": [
    {
     "name": "stdout",
     "output_type": "stream",
     "text": [
      "time: 2.23 ms\n"
     ]
    }
   ],
   "source": [
    "# initialize X matrix to the size of 3012 words by 8447 documents <3012X8447>\n",
    "X = np.zeros((3012, 8447), dtype =float)"
   ]
  },
  {
   "cell_type": "code",
   "execution_count": 4,
   "metadata": {
    "collapsed": false
   },
   "outputs": [
    {
     "name": "stdout",
     "output_type": "stream",
     "text": [
      "time: 2.62 s\n"
     ]
    }
   ],
   "source": [
    "# populate X matrix with the values from the loaded file\n",
    "# where Xij is the number of times word i appears in document j\n",
    "for i in range(len(content)):    \n",
    "    doc = content[i].split(\",\") \n",
    "    \n",
    "    for element in doc:\n",
    "        parts = element.split(':')\n",
    "        parts = list(map(int, parts))\n",
    "        X[parts[0]-1, i] = parts[1]"
   ]
  },
  {
   "cell_type": "code",
   "execution_count": 5,
   "metadata": {
    "collapsed": false
   },
   "outputs": [
    {
     "name": "stdout",
     "output_type": "stream",
     "text": [
      "time: 14.9 ms\n"
     ]
    }
   ],
   "source": [
    "k = 25\n",
    "t = 100\n",
    "\n",
    "W = np.random.uniform(low=1, high=2, size=(3012,25))\n",
    "H = np.random.uniform(low=1, high=2, size=(25,8447))"
   ]
  },
  {
   "cell_type": "code",
   "execution_count": 6,
   "metadata": {
    "collapsed": false
   },
   "outputs": [
    {
     "name": "stderr",
     "output_type": "stream",
     "text": [
      "/Users/Amiros/anaconda/lib/python3.6/site-packages/ipykernel/__main__.py:5: RuntimeWarning: divide by zero encountered in true_divide\n",
      "/Users/Amiros/anaconda/lib/python3.6/site-packages/ipykernel/__main__.py:5: RuntimeWarning: invalid value encountered in multiply\n"
     ]
    },
    {
     "name": "stdout",
     "output_type": "stream",
     "text": [
      "time: 2min 56s\n"
     ]
    }
   ],
   "source": [
    "L = []\n",
    "for i in range(t):\n",
    "    H = np.multiply(H, W.T.dot(X)/((W.T.dot(W).dot(H)) + 10**-16))\n",
    "    W = np.multiply(W, X.dot(H.T)/((W.dot(H).dot(H.T)) + 10**-16))\n",
    "    l = np.multiply(X, np.log(1/W.dot(H))) + W.dot(H)\n",
    "    L.append(np.nansum(l))"
   ]
  },
  {
   "cell_type": "code",
   "execution_count": 7,
   "metadata": {
    "collapsed": false
   },
   "outputs": [
    {
     "data": {
      "text/plain": [
       "<matplotlib.text.Text at 0x1161fe400>"
      ]
     },
     "execution_count": 7,
     "metadata": {},
     "output_type": "execute_result"
    },
    {
     "data": {
      "image/png": "[encoded data removed]",
      "text/plain": [
       "<matplotlib.figure.Figure at 0x115ff1240>"
      ]
     },
     "metadata": {},
     "output_type": "display_data"
    },
    {
     "name": "stdout",
     "output_type": "stream",
     "text": [
      "time: 365 ms\n"
     ]
    }
   ],
   "source": [
    "plt.figure(num=None, figsize=(10, 10), dpi=80)\n",
    "\n",
    "plt.plot(L)\n",
    "plt.xlabel(\"iteration\")\n",
    "plt.ylabel(\"Divergence Penalty Objective Function\")"
   ]
  },
  {
   "cell_type": "markdown",
   "metadata": {},
   "source": [
    "## 2-b"
   ]
  },
  {
   "cell_type": "code",
   "execution_count": 8,
   "metadata": {
    "collapsed": false
   },
   "outputs": [
    {
     "name": "stdout",
     "output_type": "stream",
     "text": [
      "time: 276 ms\n"
     ]
    }
   ],
   "source": [
    "from sklearn.preprocessing import normalize"
   ]
  },
  {
   "cell_type": "code",
   "execution_count": 9,
   "metadata": {
    "collapsed": false
   },
   "outputs": [
    {
     "name": "stdout",
     "output_type": "stream",
     "text": [
      "time: 31.8 ms\n"
     ]
    }
   ],
   "source": [
    "with open('nyt_vocab.dat') as l:\n",
    "    word_list = l.readlines()\n",
    "word_list = [x.strip() for x in word_list] \n",
    "word_list_arr = np.asarray(word_list)"
   ]
  },
  {
   "cell_type": "code",
   "execution_count": 10,
   "metadata": {
    "collapsed": false
   },
   "outputs": [
    {
     "name": "stdout",
     "output_type": "stream",
     "text": [
      "time: 8.99 ms\n"
     ]
    }
   ],
   "source": [
    "# normailzie each column to sum to 1\n",
    "W_norm_df = pd.DataFrame(normalize(W, norm='l1', axis=0))\n",
    "\n",
    "# rename columns\n",
    "col_names = []\n",
    "for i in range(1,26):\n",
    "    col_names.append('topic_'+ str(i))\n",
    "    \n",
    "W_norm_df.columns = col_names"
   ]
  },
  {
   "cell_type": "code",
   "execution_count": 68,
   "metadata": {
    "collapsed": false
   },
   "outputs": [
    {
     "name": "stdout",
     "output_type": "stream",
     "text": [
      "time: 4.57 ms\n"
     ]
    }
   ],
   "source": [
    "# function to sort pandas columns\n",
    "def sorted(s, num):\n",
    "    tmp = s.order(ascending=False)[:num]\n",
    "    tmp.index = range(num)\n",
    "    return tmp\n",
    "\n",
    "# function to get the index of N largest values\n",
    "def get_index(x, N):\n",
    "    tmp = np.argsort(-x)[:N]\n",
    "    return tmp"
   ]
  },
  {
   "cell_type": "code",
   "execution_count": 94,
   "metadata": {
    "collapsed": false
   },
   "outputs": [
    {
     "name": "stdout",
     "output_type": "stream",
     "text": [
      "time: 52.2 ms\n"
     ]
    },
    {
     "name": "stderr",
     "output_type": "stream",
     "text": [
      "/Users/Amiros/anaconda/lib/python3.6/site-packages/ipykernel/__main__.py:3: FutureWarning: order is deprecated, use sort_values(...)\n",
      "  app.launch_new_instance()\n"
     ]
    }
   ],
   "source": [
    "top_values = W_norm_df.apply(lambda x: sorted(x, 10))\n",
    "top_index = W_norm_df.apply(lambda x: get_index(x, 10))"
   ]
  },
  {
   "cell_type": "code",
   "execution_count": 142,
   "metadata": {
    "collapsed": false
   },
   "outputs": [
    {
     "name": "stdout",
     "output_type": "stream",
     "text": [
      "time: 4.56 ms\n"
     ]
    }
   ],
   "source": [
    "def word_values(topic):\n",
    "    word = []\n",
    "    value = []\n",
    "    for i in top_index[topic]:\n",
    "        word.append(word_list[i])\n",
    "    value = top_values[topic].tolist()\n",
    "    dictionary = dict(zip(word, value))\n",
    "    return dictionary\n",
    "### need to sort the dictionary #####"
   ]
  },
  {
   "cell_type": "code",
   "execution_count": 143,
   "metadata": {
    "collapsed": false
   },
   "outputs": [
    {
     "data": {
      "text/plain": [
       "{'audience': 0.009020132486435949,\n",
       " 'director': 0.0090957577959921,\n",
       " 'film': 0.008806686316959658,\n",
       " 'music': 0.01678919172213834,\n",
       " 'perform': 0.00781983117414529,\n",
       " 'performance': 0.011285317212461054,\n",
       " 'play': 0.016942113921658383,\n",
       " 'production': 0.008459851426346006,\n",
       " 'song': 0.007547946645224752,\n",
       " 'stage': 0.008289070154247099}"
      ]
     },
     "execution_count": 143,
     "metadata": {},
     "output_type": "execute_result"
    },
    {
     "name": "stdout",
     "output_type": "stream",
     "text": [
      "time: 4.4 ms\n"
     ]
    }
   ],
   "source": [
    "word_values('topic_2')"
   ]
  },
  {
   "cell_type": "code",
   "execution_count": null,
   "metadata": {
    "collapsed": true
   },
   "outputs": [],
   "source": []
  }
 ],
 "metadata": {
  "kernelspec": {
   "display_name": "Python 3",
   "language": "python",
   "name": "python3"
  },
  "language_info": {
   "codemirror_mode": {
    "name": "ipython",
    "version": 3
   },
   "file_extension": ".py",
   "mimetype": "text/x-python",
   "name": "python",
   "nbconvert_exporter": "python",
   "pygments_lexer": "ipython3",
   "version": "3.6.0"
  }
 },
 "nbformat": 4,
 "nbformat_minor": 2
}
