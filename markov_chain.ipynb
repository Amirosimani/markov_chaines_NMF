{
 "cells": [
  {
   "cell_type": "code",
   "execution_count": 2,
   "metadata": {
    "collapsed": false
   },
   "outputs": [
    {
     "name": "stdout",
     "output_type": "stream",
     "text": [
      "The autotime extension is already loaded. To reload it, use:\n",
      "  %reload_ext autotime\n",
      "time: 9.37 ms\n"
     ]
    }
   ],
   "source": [
    "import numpy as np\n",
    "from numpy import linalg as LA\n",
    "from scipy.sparse import linalg as SLA\n",
    "import matplotlib\n",
    "import matplotlib.pyplot as plt\n",
    "import pandas as pd\n",
    "\n",
    "%matplotlib inline\n",
    "%load_ext autotime"
   ]
  },
  {
   "cell_type": "markdown",
   "metadata": {},
   "source": [
    "## 1-a"
   ]
  },
  {
   "cell_type": "code",
   "execution_count": null,
   "metadata": {
    "collapsed": false
   },
   "outputs": [],
   "source": [
    "x_2016 = np.genfromtxt('/Users/Amiros/GitHub/Machine Learning for Data Science/hw5_markov_chaines/CFB2016_scores.csv', \n",
    "          delimiter=',')\n",
    "\n",
    "team_names = pd.read_csv('/Users/Amiros/GitHub/Machine Learning for Data Science/hw5_markov_chaines/TeamNames.txt',\n",
    "                        header = None)"
   ]
  },
  {
   "cell_type": "code",
   "execution_count": null,
   "metadata": {
    "collapsed": false
   },
   "outputs": [],
   "source": [
    "a_index = x_2016[:,0] -1\n",
    "b_index = x_2016[:,2] -1\n",
    "\n",
    "a_score = x_2016[:,1]\n",
    "b_score = x_2016[:,3]\n",
    "\n",
    "a_indicator = np.where(a_score>b_score,1,0)\n",
    "b_indicator = np.where(a_score<b_score,1,0)"
   ]
  },
  {
   "cell_type": "code",
   "execution_count": null,
   "metadata": {
    "collapsed": false
   },
   "outputs": [],
   "source": [
    "M = np.zeros((760, 760))\n",
    "\n",
    "M[tuple(a_index), tuple(a_index)] = M[tuple(a_index), tuple(a_index)] + a_indicator + a_score/(a_score+b_score)\n",
    "M[tuple(b_index), tuple(b_index)] = M[tuple(b_index), tuple(b_index)] + b_indicator + b_score/(a_score+b_score)\n",
    "M[tuple(a_index), tuple(b_index)] = M[tuple(a_index), tuple(b_index)] + b_indicator + b_score/(a_score+b_score)\n",
    "M[tuple(b_index), tuple(a_index)] = M[tuple(b_index), tuple(a_index)] + a_indicator + b_score/(a_score+b_score)\n",
    "\n",
    "M_normalize = M/M.sum(axis=1)"
   ]
  },
  {
   "cell_type": "code",
   "execution_count": null,
   "metadata": {
    "collapsed": false
   },
   "outputs": [],
   "source": [
    "# function to calculate state at t\n",
    "def update_w(w_0, t):\n",
    "    w_arr = []\n",
    "    w = w_0\n",
    "    for i in range(t):\n",
    "        w = np.dot(w, M_normalize)\n",
    "    w_arr = pd.DataFrame(w.T, index= None, columns = ['score'])\n",
    "    w_arr['team'] = team_names\n",
    "    return w_arr"
   ]
  },
  {
   "cell_type": "code",
   "execution_count": null,
   "metadata": {
    "collapsed": false
   },
   "outputs": [],
   "source": [
    "np.random.seed(42)\n",
    "w_0 = np.random.uniform(low=0.0, high=1.0, size=(1,760))\n",
    "\n",
    "w_10 = update_w(w_0, 10)\n",
    "w_100 = update_w(w_0, 100)\n",
    "w_1000 = update_w(w_0, 1000)\n",
    "w_10000 = update_w(w_0, 10000)"
   ]
  },
  {
   "cell_type": "code",
   "execution_count": null,
   "metadata": {
    "collapsed": false
   },
   "outputs": [],
   "source": [
    "w_10000.sort('score', ascending=False).head(25)"
   ]
  },
  {
   "cell_type": "markdown",
   "metadata": {},
   "source": [
    "## 1-b"
   ]
  },
  {
   "cell_type": "code",
   "execution_count": null,
   "metadata": {
    "collapsed": false
   },
   "outputs": [],
   "source": [
    "u = SLA.eigs(M,1, sigma=1)[1].T\n",
    "w_stationary = u/np.sum(u)"
   ]
  },
  {
   "cell_type": "code",
   "execution_count": null,
   "metadata": {
    "collapsed": false
   },
   "outputs": [],
   "source": [
    "def print_w(w_0, w_stationary, t=2):\n",
    "    w = w_0\n",
    "    x = []\n",
    "    for i in range(t):\n",
    "        w = np.dot(w, M_normalize)\n",
    "        x.append(LA.norm(w_stationary-w, ord=1))\n",
    "    \n",
    "    plt.figure(num=None, figsize=(10, 10), dpi=80)\n",
    "    plt.plot(x, linewidth=2)\n",
    "\n",
    "print_w(w_0, w_stationary, t=10000)"
   ]
  },
  {
   "cell_type": "markdown",
   "metadata": {},
   "source": [
    "      \n",
    "          \n",
    "          \n",
    "             "
   ]
  },
  {
   "cell_type": "markdown",
   "metadata": {},
   "source": [
    "## 2-a"
   ]
  },
  {
   "cell_type": "code",
   "execution_count": 3,
   "metadata": {
    "collapsed": false
   },
   "outputs": [
    {
     "name": "stdout",
     "output_type": "stream",
     "text": [
      "time: 43.6 ms\n"
     ]
    }
   ],
   "source": [
    "# load the txt file\n",
    "with open('nyt_data.csv') as f:\n",
    "    content = f.readlines()\n",
    "content = [x.strip() for x in content] "
   ]
  },
  {
   "cell_type": "code",
   "execution_count": 4,
   "metadata": {
    "collapsed": false
   },
   "outputs": [
    {
     "name": "stdout",
     "output_type": "stream",
     "text": [
      "time: 1.98 ms\n"
     ]
    }
   ],
   "source": [
    "# initialize X matrix to the size of 3012 words by 8447 documents <3012X8447>\n",
    "X = np.zeros((3012, 8447), dtype =float)"
   ]
  },
  {
   "cell_type": "code",
   "execution_count": 5,
   "metadata": {
    "collapsed": false
   },
   "outputs": [
    {
     "name": "stdout",
     "output_type": "stream",
     "text": [
      "time: 2.55 s\n"
     ]
    }
   ],
   "source": [
    "# populate X matrix with the values from the loaded file\n",
    "# where Xij is the number of times word i appears in document j\n",
    "for i in range(len(content)):    \n",
    "    doc = content[i].split(\",\") \n",
    "    \n",
    "    for element in doc:\n",
    "        parts = element.split(':')\n",
    "        parts = list(map(int, parts))\n",
    "        X[parts[0]-1, i] = parts[1]"
   ]
  },
  {
   "cell_type": "code",
   "execution_count": 14,
   "metadata": {
    "collapsed": false
   },
   "outputs": [
    {
     "name": "stdout",
     "output_type": "stream",
     "text": [
      "time: 12.2 ms\n"
     ]
    }
   ],
   "source": [
    "k = 25\n",
    "t = 100\n",
    "\n",
    "W = np.random.uniform(low=1, high=2, size=(3012,25))\n",
    "H = np.random.uniform(low=1, high=2, size=(25,8447))"
   ]
  },
  {
   "cell_type": "code",
   "execution_count": 15,
   "metadata": {
    "collapsed": false
   },
   "outputs": [
    {
     "name": "stderr",
     "output_type": "stream",
     "text": [
      "/Users/Amiros/anaconda/lib/python3.6/site-packages/ipykernel/__main__.py:5: RuntimeWarning: divide by zero encountered in true_divide\n",
      "/Users/Amiros/anaconda/lib/python3.6/site-packages/ipykernel/__main__.py:5: RuntimeWarning: invalid value encountered in multiply\n"
     ]
    },
    {
     "name": "stdout",
     "output_type": "stream",
     "text": [
      "time: 4min 13s\n"
     ]
    }
   ],
   "source": [
    "L = []\n",
    "for i in range(t):\n",
    "    H = np.multiply(H, W.T.dot(X)/((W.T.dot(W).dot(H)) + 10**-16))\n",
    "    W = np.multiply(W, X.dot(H.T)/((W.dot(H).dot(H.T)) + 10**-16))\n",
    "    l = np.multiply(X, np.log(1/W.dot(H))) + W.dot(H)\n",
    "    L.append(np.nansum(l))"
   ]
  },
  {
   "cell_type": "code",
   "execution_count": 19,
   "metadata": {
    "collapsed": false
   },
   "outputs": [
    {
     "data": {
      "text/plain": [
       "<matplotlib.text.Text at 0x12de5a860>"
      ]
     },
     "execution_count": 19,
     "metadata": {},
     "output_type": "execute_result"
    },
    {
     "data": {
      "image/png": "[encoded data removed]",
      "text/plain": [
       "<matplotlib.figure.Figure at 0x12de4d828>"
      ]
     },
     "metadata": {},
     "output_type": "display_data"
    },
    {
     "name": "stdout",
     "output_type": "stream",
     "text": [
      "time: 435 ms\n"
     ]
    }
   ],
   "source": [
    "plt.figure(num=None, figsize=(10, 10), dpi=80)\n",
    "\n",
    "plt.plot(L)\n",
    "plt.xlabel(\"iteration\")\n",
    "plt.ylabel(\"Divergence Penalty Objective Function\")"
   ]
  },
  {
   "cell_type": "markdown",
   "metadata": {},
   "source": [
    "## 2-b"
   ]
  },
  {
   "cell_type": "code",
   "execution_count": 21,
   "metadata": {
    "collapsed": false
   },
   "outputs": [
    {
     "name": "stdout",
     "output_type": "stream",
     "text": [
      "time: 2.08 ms\n"
     ]
    }
   ],
   "source": [
    "from sklearn.preprocessing import normalize"
   ]
  },
  {
   "cell_type": "code",
   "execution_count": 68,
   "metadata": {
    "collapsed": false
   },
   "outputs": [
    {
     "data": {
      "text/plain": [
       "'company'"
      ]
     },
     "execution_count": 68,
     "metadata": {},
     "output_type": "execute_result"
    },
    {
     "name": "stdout",
     "output_type": "stream",
     "text": [
      "time: 10.7 ms\n"
     ]
    }
   ],
   "source": [
    "with open('nyt_vocab.dat') as l:\n",
    "    word_list = l.readlines()\n",
    "word_list = [x.strip() for x in word_list] \n",
    "word_list_arr = np.asarray(word_list)"
   ]
  },
  {
   "cell_type": "code",
   "execution_count": 50,
   "metadata": {
    "collapsed": false
   },
   "outputs": [
    {
     "name": "stdout",
     "output_type": "stream",
     "text": [
      "time: 8.3 ms\n"
     ]
    }
   ],
   "source": [
    "# normailzie each column to sum to 1\n",
    "W_norm_df = pd.DataFrame(normalize(W, norm='l1', axis=0))\n",
    "\n",
    "# rename columns\n",
    "col_names = []\n",
    "for i in range(1,26):\n",
    "    col_names.append('topic_'+ str(i))\n",
    "    \n",
    "W_norm_df.columns = col_names"
   ]
  },
  {
   "cell_type": "code",
   "execution_count": 74,
   "metadata": {
    "collapsed": false
   },
   "outputs": [
    {
     "name": "stdout",
     "output_type": "stream",
     "text": [
      "time: 1.64 ms\n"
     ]
    }
   ],
   "source": [
    "# W_norm_df.sort('topic_1', ascending=False).head(10)\n",
    "# a = "
   ]
  },
  {
   "cell_type": "code",
   "execution_count": 78,
   "metadata": {
    "collapsed": false
   },
   "outputs": [
    {
     "name": "stdout",
     "output_type": "stream",
     "text": [
      "time: 3.02 ms\n"
     ]
    }
   ],
   "source": [
    "def sorted(s, num):\n",
    "    tmp = s.order(ascending=False)[:num]\n",
    "    tmp.index = range(num)\n",
    "    return tmp"
   ]
  },
  {
   "cell_type": "code",
   "execution_count": 79,
   "metadata": {
    "collapsed": false
   },
   "outputs": [
    {
     "name": "stderr",
     "output_type": "stream",
     "text": [
      "/Users/Amiros/anaconda/lib/python3.6/site-packages/ipykernel/__main__.py:2: FutureWarning: order is deprecated, use sort_values(...)\n",
      "  from ipykernel import kernelapp as app\n"
     ]
    },
    {
     "data": {
      "text/html": [
       "<div>\n",
       "<table border=\"1\" class=\"dataframe\">\n",
       "  <thead>\n",
       "    <tr style=\"text-align: right;\">\n",
       "      <th></th>\n",
       "      <th>topic_1</th>\n",
       "      <th>topic_2</th>\n",
       "      <th>topic_3</th>\n",
       "      <th>topic_4</th>\n",
       "      <th>topic_5</th>\n",
       "      <th>topic_6</th>\n",
       "      <th>topic_7</th>\n",
       "      <th>topic_8</th>\n",
       "      <th>topic_9</th>\n",
       "      <th>topic_10</th>\n",
       "      <th>...</th>\n",
       "      <th>topic_16</th>\n",
       "      <th>topic_17</th>\n",
       "      <th>topic_18</th>\n",
       "      <th>topic_19</th>\n",
       "      <th>topic_20</th>\n",
       "      <th>topic_21</th>\n",
       "      <th>topic_22</th>\n",
       "      <th>topic_23</th>\n",
       "      <th>topic_24</th>\n",
       "      <th>topic_25</th>\n",
       "    </tr>\n",
       "  </thead>\n",
       "  <tbody>\n",
       "    <tr>\n",
       "      <th>0</th>\n",
       "      <td>0.018545</td>\n",
       "      <td>0.039080</td>\n",
       "      <td>0.018327</td>\n",
       "      <td>0.051205</td>\n",
       "      <td>0.037439</td>\n",
       "      <td>0.026168</td>\n",
       "      <td>0.021862</td>\n",
       "      <td>0.010404</td>\n",
       "      <td>0.020523</td>\n",
       "      <td>0.034263</td>\n",
       "      <td>...</td>\n",
       "      <td>0.053198</td>\n",
       "      <td>0.085255</td>\n",
       "      <td>0.008569</td>\n",
       "      <td>0.016945</td>\n",
       "      <td>0.030954</td>\n",
       "      <td>0.047474</td>\n",
       "      <td>0.022971</td>\n",
       "      <td>0.024004</td>\n",
       "      <td>0.023959</td>\n",
       "      <td>0.014242</td>\n",
       "    </tr>\n",
       "    <tr>\n",
       "      <th>1</th>\n",
       "      <td>0.013160</td>\n",
       "      <td>0.038193</td>\n",
       "      <td>0.017657</td>\n",
       "      <td>0.039554</td>\n",
       "      <td>0.015656</td>\n",
       "      <td>0.018546</td>\n",
       "      <td>0.014679</td>\n",
       "      <td>0.007740</td>\n",
       "      <td>0.018477</td>\n",
       "      <td>0.025742</td>\n",
       "      <td>...</td>\n",
       "      <td>0.033228</td>\n",
       "      <td>0.022657</td>\n",
       "      <td>0.007445</td>\n",
       "      <td>0.014542</td>\n",
       "      <td>0.030935</td>\n",
       "      <td>0.039772</td>\n",
       "      <td>0.022573</td>\n",
       "      <td>0.018290</td>\n",
       "      <td>0.018768</td>\n",
       "      <td>0.013323</td>\n",
       "    </tr>\n",
       "    <tr>\n",
       "      <th>2</th>\n",
       "      <td>0.011885</td>\n",
       "      <td>0.023076</td>\n",
       "      <td>0.015908</td>\n",
       "      <td>0.025964</td>\n",
       "      <td>0.014192</td>\n",
       "      <td>0.016437</td>\n",
       "      <td>0.013860</td>\n",
       "      <td>0.007404</td>\n",
       "      <td>0.016648</td>\n",
       "      <td>0.015699</td>\n",
       "      <td>...</td>\n",
       "      <td>0.019221</td>\n",
       "      <td>0.014503</td>\n",
       "      <td>0.006552</td>\n",
       "      <td>0.011214</td>\n",
       "      <td>0.028660</td>\n",
       "      <td>0.034317</td>\n",
       "      <td>0.021076</td>\n",
       "      <td>0.017740</td>\n",
       "      <td>0.017340</td>\n",
       "      <td>0.012002</td>\n",
       "    </tr>\n",
       "    <tr>\n",
       "      <th>3</th>\n",
       "      <td>0.011847</td>\n",
       "      <td>0.016702</td>\n",
       "      <td>0.015399</td>\n",
       "      <td>0.017545</td>\n",
       "      <td>0.011660</td>\n",
       "      <td>0.015294</td>\n",
       "      <td>0.013647</td>\n",
       "      <td>0.006944</td>\n",
       "      <td>0.016493</td>\n",
       "      <td>0.013526</td>\n",
       "      <td>...</td>\n",
       "      <td>0.017398</td>\n",
       "      <td>0.011937</td>\n",
       "      <td>0.006069</td>\n",
       "      <td>0.008278</td>\n",
       "      <td>0.025062</td>\n",
       "      <td>0.033517</td>\n",
       "      <td>0.012240</td>\n",
       "      <td>0.017377</td>\n",
       "      <td>0.013045</td>\n",
       "      <td>0.011462</td>\n",
       "    </tr>\n",
       "    <tr>\n",
       "      <th>4</th>\n",
       "      <td>0.010864</td>\n",
       "      <td>0.011012</td>\n",
       "      <td>0.015283</td>\n",
       "      <td>0.016530</td>\n",
       "      <td>0.011151</td>\n",
       "      <td>0.015291</td>\n",
       "      <td>0.011174</td>\n",
       "      <td>0.006925</td>\n",
       "      <td>0.011693</td>\n",
       "      <td>0.013096</td>\n",
       "      <td>...</td>\n",
       "      <td>0.012530</td>\n",
       "      <td>0.010088</td>\n",
       "      <td>0.006015</td>\n",
       "      <td>0.008021</td>\n",
       "      <td>0.022635</td>\n",
       "      <td>0.029410</td>\n",
       "      <td>0.011854</td>\n",
       "      <td>0.017148</td>\n",
       "      <td>0.012457</td>\n",
       "      <td>0.009445</td>\n",
       "    </tr>\n",
       "    <tr>\n",
       "      <th>5</th>\n",
       "      <td>0.010229</td>\n",
       "      <td>0.009809</td>\n",
       "      <td>0.015146</td>\n",
       "      <td>0.016407</td>\n",
       "      <td>0.009308</td>\n",
       "      <td>0.012564</td>\n",
       "      <td>0.011133</td>\n",
       "      <td>0.006846</td>\n",
       "      <td>0.011394</td>\n",
       "      <td>0.012110</td>\n",
       "      <td>...</td>\n",
       "      <td>0.011551</td>\n",
       "      <td>0.009590</td>\n",
       "      <td>0.005703</td>\n",
       "      <td>0.007864</td>\n",
       "      <td>0.014541</td>\n",
       "      <td>0.028378</td>\n",
       "      <td>0.010901</td>\n",
       "      <td>0.016209</td>\n",
       "      <td>0.011993</td>\n",
       "      <td>0.008546</td>\n",
       "    </tr>\n",
       "    <tr>\n",
       "      <th>6</th>\n",
       "      <td>0.010194</td>\n",
       "      <td>0.009630</td>\n",
       "      <td>0.014511</td>\n",
       "      <td>0.015306</td>\n",
       "      <td>0.008914</td>\n",
       "      <td>0.012471</td>\n",
       "      <td>0.010694</td>\n",
       "      <td>0.006635</td>\n",
       "      <td>0.010610</td>\n",
       "      <td>0.011260</td>\n",
       "      <td>...</td>\n",
       "      <td>0.011378</td>\n",
       "      <td>0.008933</td>\n",
       "      <td>0.005699</td>\n",
       "      <td>0.007631</td>\n",
       "      <td>0.010083</td>\n",
       "      <td>0.025622</td>\n",
       "      <td>0.009181</td>\n",
       "      <td>0.014948</td>\n",
       "      <td>0.009894</td>\n",
       "      <td>0.008063</td>\n",
       "    </tr>\n",
       "    <tr>\n",
       "      <th>7</th>\n",
       "      <td>0.009743</td>\n",
       "      <td>0.009258</td>\n",
       "      <td>0.013477</td>\n",
       "      <td>0.014016</td>\n",
       "      <td>0.008808</td>\n",
       "      <td>0.010724</td>\n",
       "      <td>0.009995</td>\n",
       "      <td>0.006498</td>\n",
       "      <td>0.010161</td>\n",
       "      <td>0.011169</td>\n",
       "      <td>...</td>\n",
       "      <td>0.010525</td>\n",
       "      <td>0.008336</td>\n",
       "      <td>0.005695</td>\n",
       "      <td>0.007593</td>\n",
       "      <td>0.008854</td>\n",
       "      <td>0.025142</td>\n",
       "      <td>0.008387</td>\n",
       "      <td>0.013904</td>\n",
       "      <td>0.009252</td>\n",
       "      <td>0.006804</td>\n",
       "    </tr>\n",
       "    <tr>\n",
       "      <th>8</th>\n",
       "      <td>0.009121</td>\n",
       "      <td>0.008575</td>\n",
       "      <td>0.011774</td>\n",
       "      <td>0.013441</td>\n",
       "      <td>0.008638</td>\n",
       "      <td>0.010207</td>\n",
       "      <td>0.008986</td>\n",
       "      <td>0.005473</td>\n",
       "      <td>0.009310</td>\n",
       "      <td>0.010797</td>\n",
       "      <td>...</td>\n",
       "      <td>0.010361</td>\n",
       "      <td>0.008073</td>\n",
       "      <td>0.005201</td>\n",
       "      <td>0.007388</td>\n",
       "      <td>0.007223</td>\n",
       "      <td>0.024220</td>\n",
       "      <td>0.007827</td>\n",
       "      <td>0.012016</td>\n",
       "      <td>0.008679</td>\n",
       "      <td>0.006613</td>\n",
       "    </tr>\n",
       "    <tr>\n",
       "      <th>9</th>\n",
       "      <td>0.007349</td>\n",
       "      <td>0.008347</td>\n",
       "      <td>0.011655</td>\n",
       "      <td>0.009594</td>\n",
       "      <td>0.008360</td>\n",
       "      <td>0.009901</td>\n",
       "      <td>0.008698</td>\n",
       "      <td>0.005398</td>\n",
       "      <td>0.009188</td>\n",
       "      <td>0.010460</td>\n",
       "      <td>...</td>\n",
       "      <td>0.009311</td>\n",
       "      <td>0.006933</td>\n",
       "      <td>0.004895</td>\n",
       "      <td>0.007235</td>\n",
       "      <td>0.006692</td>\n",
       "      <td>0.023530</td>\n",
       "      <td>0.007394</td>\n",
       "      <td>0.011010</td>\n",
       "      <td>0.008279</td>\n",
       "      <td>0.006433</td>\n",
       "    </tr>\n",
       "  </tbody>\n",
       "</table>\n",
       "<p>10 rows × 25 columns</p>\n",
       "</div>"
      ],
      "text/plain": [
       "    topic_1   topic_2   topic_3   topic_4   topic_5   topic_6   topic_7  \\\n",
       "0  0.018545  0.039080  0.018327  0.051205  0.037439  0.026168  0.021862   \n",
       "1  0.013160  0.038193  0.017657  0.039554  0.015656  0.018546  0.014679   \n",
       "2  0.011885  0.023076  0.015908  0.025964  0.014192  0.016437  0.013860   \n",
       "3  0.011847  0.016702  0.015399  0.017545  0.011660  0.015294  0.013647   \n",
       "4  0.010864  0.011012  0.015283  0.016530  0.011151  0.015291  0.011174   \n",
       "5  0.010229  0.009809  0.015146  0.016407  0.009308  0.012564  0.011133   \n",
       "6  0.010194  0.009630  0.014511  0.015306  0.008914  0.012471  0.010694   \n",
       "7  0.009743  0.009258  0.013477  0.014016  0.008808  0.010724  0.009995   \n",
       "8  0.009121  0.008575  0.011774  0.013441  0.008638  0.010207  0.008986   \n",
       "9  0.007349  0.008347  0.011655  0.009594  0.008360  0.009901  0.008698   \n",
       "\n",
       "    topic_8   topic_9  topic_10    ...     topic_16  topic_17  topic_18  \\\n",
       "0  0.010404  0.020523  0.034263    ...     0.053198  0.085255  0.008569   \n",
       "1  0.007740  0.018477  0.025742    ...     0.033228  0.022657  0.007445   \n",
       "2  0.007404  0.016648  0.015699    ...     0.019221  0.014503  0.006552   \n",
       "3  0.006944  0.016493  0.013526    ...     0.017398  0.011937  0.006069   \n",
       "4  0.006925  0.011693  0.013096    ...     0.012530  0.010088  0.006015   \n",
       "5  0.006846  0.011394  0.012110    ...     0.011551  0.009590  0.005703   \n",
       "6  0.006635  0.010610  0.011260    ...     0.011378  0.008933  0.005699   \n",
       "7  0.006498  0.010161  0.011169    ...     0.010525  0.008336  0.005695   \n",
       "8  0.005473  0.009310  0.010797    ...     0.010361  0.008073  0.005201   \n",
       "9  0.005398  0.009188  0.010460    ...     0.009311  0.006933  0.004895   \n",
       "\n",
       "   topic_19  topic_20  topic_21  topic_22  topic_23  topic_24  topic_25  \n",
       "0  0.016945  0.030954  0.047474  0.022971  0.024004  0.023959  0.014242  \n",
       "1  0.014542  0.030935  0.039772  0.022573  0.018290  0.018768  0.013323  \n",
       "2  0.011214  0.028660  0.034317  0.021076  0.017740  0.017340  0.012002  \n",
       "3  0.008278  0.025062  0.033517  0.012240  0.017377  0.013045  0.011462  \n",
       "4  0.008021  0.022635  0.029410  0.011854  0.017148  0.012457  0.009445  \n",
       "5  0.007864  0.014541  0.028378  0.010901  0.016209  0.011993  0.008546  \n",
       "6  0.007631  0.010083  0.025622  0.009181  0.014948  0.009894  0.008063  \n",
       "7  0.007593  0.008854  0.025142  0.008387  0.013904  0.009252  0.006804  \n",
       "8  0.007388  0.007223  0.024220  0.007827  0.012016  0.008679  0.006613  \n",
       "9  0.007235  0.006692  0.023530  0.007394  0.011010  0.008279  0.006433  \n",
       "\n",
       "[10 rows x 25 columns]"
      ]
     },
     "execution_count": 79,
     "metadata": {},
     "output_type": "execute_result"
    },
    {
     "name": "stdout",
     "output_type": "stream",
     "text": [
      "time: 109 ms\n"
     ]
    }
   ],
   "source": [
    "W_norm_df.apply(lambda x: sorted(x, 10))"
   ]
  },
  {
   "cell_type": "code",
   "execution_count": 121,
   "metadata": {
    "collapsed": false
   },
   "outputs": [
    {
     "data": {
      "text/plain": [
       "array([132,  75, 120, 253, 319, 150, 216, 383, 528,  84])"
      ]
     },
     "execution_count": 121,
     "metadata": {},
     "output_type": "execute_result"
    },
    {
     "name": "stdout",
     "output_type": "stream",
     "text": [
      "time: 9.95 ms\n"
     ]
    }
   ],
   "source": [
    "aa = pd.DataFrame(W_norm_df['topic_3'].nlargest(10))\n",
    "aa.index.values"
   ]
  },
  {
   "cell_type": "code",
   "execution_count": 91,
   "metadata": {
    "collapsed": false
   },
   "outputs": [
    {
     "data": {
      "text/plain": [
       "array([13, 11,  9, 16,  6, 23, 18, 20,  8,  4])"
      ]
     },
     "execution_count": 91,
     "metadata": {},
     "output_type": "execute_result"
    },
    {
     "name": "stdout",
     "output_type": "stream",
     "text": [
      "time: 7.82 ms\n"
     ]
    }
   ],
   "source": [
    "np.argsort(W_norm)[0,-10:]"
   ]
  },
  {
   "cell_type": "code",
   "execution_count": 125,
   "metadata": {
    "collapsed": false
   },
   "outputs": [
    {
     "name": "stdout",
     "output_type": "stream",
     "text": [
      "time: 2.56 ms\n"
     ]
    }
   ],
   "source": [
    "ab = ("
   ]
  },
  {
   "cell_type": "code",
   "execution_count": 151,
   "metadata": {
    "collapsed": false
   },
   "outputs": [
    {
     "data": {
      "text/plain": [
       "array([['state', 'plan', 'place', 'life', 'states', 'percent', 'company',\n",
       "        'point', 'man', 'child', 'lucrative', 'official', 'home', 'group',\n",
       "        'program', 'case', 'school', 'city', 'woman', 'tell', 'report',\n",
       "        'government', 'game', 'american', 'play'],\n",
       "       ['report', 'home', 'program', 'plan', 'child', 'school', 'american',\n",
       "        'official', 'woman', 'group', 'company', 'case', 'city', 'point',\n",
       "        'place', 'game', 'play', 'percent', 'man', 'states', 'tell',\n",
       "        'lucrative', 'life', 'government', 'state'],\n",
       "       ['city', 'point', 'life', 'program', 'report', 'game', 'plan',\n",
       "        'official', 'place', 'play', 'woman', 'american', 'company',\n",
       "        'state', 'government', 'percent', 'man', 'group', 'case', 'home',\n",
       "        'states', 'school', 'child', 'lucrative', 'tell'],\n",
       "       ['city', 'program', 'american', 'game', 'lucrative', 'group',\n",
       "        'plan', 'states', 'woman', 'company', 'place', 'state', 'life',\n",
       "        'official', 'tell', 'government', 'report', 'percent', 'play',\n",
       "        'man', 'point', 'home', 'school', 'case', 'child'],\n",
       "       ['official', 'city', 'case', 'place', 'tell', 'life', 'game',\n",
       "        'home', 'government', 'woman', 'program', 'point', 'american',\n",
       "        'child', 'company', 'group', 'report', 'lucrative', 'percent',\n",
       "        'states', 'play', 'plan', 'state', 'school', 'man'],\n",
       "       ['case', 'tell', 'woman', 'point', 'play', 'city', 'states',\n",
       "        'report', 'government', 'group', 'company', 'plan', 'percent',\n",
       "        'home', 'life', 'school', 'place', 'american', 'lucrative',\n",
       "        'child', 'official', 'program', 'state', 'man', 'game'],\n",
       "       ['plan', 'city', 'official', 'woman', 'state', 'play', 'game',\n",
       "        'company', 'lucrative', 'group', 'point', 'tell', 'place',\n",
       "        'american', 'program', 'life', 'government', 'report', 'man',\n",
       "        'percent', 'home', 'school', 'states', 'case', 'child'],\n",
       "       ['percent', 'woman', 'game', 'place', 'plan', 'official', 'man',\n",
       "        'government', 'home', 'report', 'child', 'school', 'group',\n",
       "        'state', 'states', 'lucrative', 'play', 'program', 'case', 'tell',\n",
       "        'life', 'company', 'city', 'american', 'point'],\n",
       "       ['place', 'government', 'city', 'plan', 'report', 'company', 'life',\n",
       "        'point', 'states', 'program', 'game', 'man', 'school', 'percent',\n",
       "        'state', 'group', 'play', 'woman', 'case', 'home', 'official',\n",
       "        'tell', 'american', 'lucrative', 'child'],\n",
       "       ['case', 'home', 'life', 'government', 'game', 'percent', 'child',\n",
       "        'states', 'state', 'company', 'point', 'american', 'woman',\n",
       "        'lucrative', 'tell', 'play', 'program', 'plan', 'official',\n",
       "        'report', 'place', 'group', 'man', 'school', 'city']], \n",
       "      dtype='<U14')"
      ]
     },
     "execution_count": 151,
     "metadata": {},
     "output_type": "execute_result"
    },
    {
     "name": "stdout",
     "output_type": "stream",
     "text": [
      "time: 9.52 ms\n"
     ]
    }
   ],
   "source": [
    "word_list_arr[(np.argsort(W_norm[:,])[-10:])[::-1] -1]"
   ]
  },
  {
   "cell_type": "code",
   "execution_count": 149,
   "metadata": {
    "collapsed": false
   },
   "outputs": [
    {
     "data": {
      "text/plain": [
       "array(['public', 'fall', 'police', 'cost', 'world', 'talk', 'second',\n",
       "       'money', 'send', 'business'], \n",
       "      dtype='<U14')"
      ]
     },
     "execution_count": 149,
     "metadata": {},
     "output_type": "execute_result"
    },
    {
     "name": "stdout",
     "output_type": "stream",
     "text": [
      "time: 4.91 ms\n"
     ]
    }
   ],
   "source": [
    "# for i in range(25)\n",
    "word_list_arr[(np.argsort(W_norm[:,0])[-10:])[::-1] - 1]"
   ]
  },
  {
   "cell_type": "code",
   "execution_count": null,
   "metadata": {
    "collapsed": false
   },
   "outputs": [],
   "source": []
  },
  {
   "cell_type": "code",
   "execution_count": null,
   "metadata": {
    "collapsed": true
   },
   "outputs": [],
   "source": []
  }
 ],
 "metadata": {
  "kernelspec": {
   "display_name": "Python 3",
   "language": "python",
   "name": "python3"
  },
  "language_info": {
   "codemirror_mode": {
    "name": "ipython",
    "version": 3
   },
   "file_extension": ".py",
   "mimetype": "text/x-python",
   "name": "python",
   "nbconvert_exporter": "python",
   "pygments_lexer": "ipython3",
   "version": "3.6.0"
  }
 },
 "nbformat": 4,
 "nbformat_minor": 2
}
